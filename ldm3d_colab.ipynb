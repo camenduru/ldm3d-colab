{
  "cells": [
    {
      "cell_type": "markdown",
      "metadata": {
        "id": "view-in-github"
      },
      "source": [
        "[![Open In Colab](https://colab.research.google.com/assets/colab-badge.svg)](https://colab.research.google.com/github/camenduru/ldm3d-colab/blob/main/ldm3d_colab.ipynb)"
      ]
    },
    {
      "cell_type": "code",
      "execution_count": null,
      "metadata": {
        "id": "VjYy0F2gZIPR"
      },
      "outputs": [],
      "source": [
        "%cd /content\n",
        "!git clone -b dev https://github.com/camenduru/ldm3d-hf\n",
        "%cd /content/ldm3d-hf\n",
        "\n",
        "!pip install -q git+https://github.com/huggingface/diffusers@07c9a08e67feb4d05ba22ba6b1a2d39468d68225\n",
        "!pip install -q gradio==3.40.1 transformers==4.31.0 accelerate==0.21.0 xformers==0.0.20 triton==2.0.0\n",
        "\n",
        "!python app.py"
      ]
    }
  ],
  "metadata": {
    "accelerator": "GPU",
    "colab": {
      "gpuType": "T4",
      "provenance": []
    },
    "kernelspec": {
      "display_name": "Python 3",
      "name": "python3"
    },
    "language_info": {
      "name": "python"
    }
  },
  "nbformat": 4,
  "nbformat_minor": 0
}
